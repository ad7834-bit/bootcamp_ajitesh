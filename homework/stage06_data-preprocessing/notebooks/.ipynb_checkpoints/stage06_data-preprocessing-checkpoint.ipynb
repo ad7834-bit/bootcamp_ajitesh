{
 "cells": [
  {
   "cell_type": "markdown",
   "id": "944eae41-549a-4f7b-837c-c970fd0d68f9",
   "metadata": {},
   "source": [
    "### Making sample dataset"
   ]
  },
  {
   "cell_type": "code",
   "execution_count": 1,
   "id": "9414ab2e-8bb6-4321-8d28-3ad6a51bac2a",
   "metadata": {},
   "outputs": [],
   "source": [
    "import os\n",
    "import pandas as pd\n",
    "\n",
    "data_raw = \"../data/raw/\"\n",
    "data_processed = \"../data/processed/\"\n",
    "\n",
    "os.makedirs(data_raw, exist_ok=True)\n",
    "os.makedirs(data_processed, exist_ok=True)\n",
    "\n",
    "df = pd.DataFrame({\n",
    "    \"id\": [1, 2, 3, 4, 5, 6],\n",
    "    \"age\": [25, None, 30, 22, None, 28],\n",
    "    \"income\": [50000, 60000, None, 45000, 52000, None],\n",
    "    \"city\": [\"NY\", \"LA\", None, \"SF\", \"NY\", \"LA\"]\n",
    "})\n",
    "\n",
    "df.to_csv(os.path.join(data_raw, \"people.csv\"), index=False)\n"
   ]
  },
  {
   "cell_type": "markdown",
   "id": "80a5fe3a-c8c8-4278-93cd-fa795f16f7bc",
   "metadata": {},
   "source": [
    "### Importing data, cleaning and comparing datasets"
   ]
  },
  {
   "cell_type": "code",
   "execution_count": 6,
   "id": "d748164d-92ba-4064-9135-cb13441d8abd",
   "metadata": {},
   "outputs": [
    {
     "name": "stdout",
     "output_type": "stream",
     "text": [
      "Original Data:\n"
     ]
    },
    {
     "data": {
      "text/html": [
       "<div>\n",
       "<style scoped>\n",
       "    .dataframe tbody tr th:only-of-type {\n",
       "        vertical-align: middle;\n",
       "    }\n",
       "\n",
       "    .dataframe tbody tr th {\n",
       "        vertical-align: top;\n",
       "    }\n",
       "\n",
       "    .dataframe thead th {\n",
       "        text-align: right;\n",
       "    }\n",
       "</style>\n",
       "<table border=\"1\" class=\"dataframe\">\n",
       "  <thead>\n",
       "    <tr style=\"text-align: right;\">\n",
       "      <th></th>\n",
       "      <th>id</th>\n",
       "      <th>age</th>\n",
       "      <th>income</th>\n",
       "      <th>city</th>\n",
       "    </tr>\n",
       "  </thead>\n",
       "  <tbody>\n",
       "    <tr>\n",
       "      <th>0</th>\n",
       "      <td>1</td>\n",
       "      <td>25.0</td>\n",
       "      <td>50000.0</td>\n",
       "      <td>NY</td>\n",
       "    </tr>\n",
       "    <tr>\n",
       "      <th>1</th>\n",
       "      <td>2</td>\n",
       "      <td>NaN</td>\n",
       "      <td>60000.0</td>\n",
       "      <td>LA</td>\n",
       "    </tr>\n",
       "    <tr>\n",
       "      <th>2</th>\n",
       "      <td>3</td>\n",
       "      <td>30.0</td>\n",
       "      <td>NaN</td>\n",
       "      <td>NaN</td>\n",
       "    </tr>\n",
       "    <tr>\n",
       "      <th>3</th>\n",
       "      <td>4</td>\n",
       "      <td>22.0</td>\n",
       "      <td>45000.0</td>\n",
       "      <td>SF</td>\n",
       "    </tr>\n",
       "    <tr>\n",
       "      <th>4</th>\n",
       "      <td>5</td>\n",
       "      <td>NaN</td>\n",
       "      <td>52000.0</td>\n",
       "      <td>NY</td>\n",
       "    </tr>\n",
       "    <tr>\n",
       "      <th>5</th>\n",
       "      <td>6</td>\n",
       "      <td>28.0</td>\n",
       "      <td>NaN</td>\n",
       "      <td>LA</td>\n",
       "    </tr>\n",
       "  </tbody>\n",
       "</table>\n",
       "</div>"
      ],
      "text/plain": [
       "   id   age   income city\n",
       "0   1  25.0  50000.0   NY\n",
       "1   2   NaN  60000.0   LA\n",
       "2   3  30.0      NaN  NaN\n",
       "3   4  22.0  45000.0   SF\n",
       "4   5   NaN  52000.0   NY\n",
       "5   6  28.0      NaN   LA"
      ]
     },
     "metadata": {},
     "output_type": "display_data"
    },
    {
     "name": "stdout",
     "output_type": "stream",
     "text": [
      "Cleaned Data:\n"
     ]
    },
    {
     "data": {
      "text/html": [
       "<div>\n",
       "<style scoped>\n",
       "    .dataframe tbody tr th:only-of-type {\n",
       "        vertical-align: middle;\n",
       "    }\n",
       "\n",
       "    .dataframe tbody tr th {\n",
       "        vertical-align: top;\n",
       "    }\n",
       "\n",
       "    .dataframe thead th {\n",
       "        text-align: right;\n",
       "    }\n",
       "</style>\n",
       "<table border=\"1\" class=\"dataframe\">\n",
       "  <thead>\n",
       "    <tr style=\"text-align: right;\">\n",
       "      <th></th>\n",
       "      <th>id</th>\n",
       "      <th>age</th>\n",
       "      <th>income</th>\n",
       "      <th>city</th>\n",
       "    </tr>\n",
       "  </thead>\n",
       "  <tbody>\n",
       "    <tr>\n",
       "      <th>0</th>\n",
       "      <td>1</td>\n",
       "      <td>0.50</td>\n",
       "      <td>0.333333</td>\n",
       "      <td>NY</td>\n",
       "    </tr>\n",
       "    <tr>\n",
       "      <th>1</th>\n",
       "      <td>2</td>\n",
       "      <td>0.75</td>\n",
       "      <td>1.000000</td>\n",
       "      <td>LA</td>\n",
       "    </tr>\n",
       "    <tr>\n",
       "      <th>3</th>\n",
       "      <td>4</td>\n",
       "      <td>0.00</td>\n",
       "      <td>0.000000</td>\n",
       "      <td>SF</td>\n",
       "    </tr>\n",
       "    <tr>\n",
       "      <th>4</th>\n",
       "      <td>5</td>\n",
       "      <td>0.75</td>\n",
       "      <td>0.466667</td>\n",
       "      <td>NY</td>\n",
       "    </tr>\n",
       "    <tr>\n",
       "      <th>5</th>\n",
       "      <td>6</td>\n",
       "      <td>1.00</td>\n",
       "      <td>0.400000</td>\n",
       "      <td>LA</td>\n",
       "    </tr>\n",
       "  </tbody>\n",
       "</table>\n",
       "</div>"
      ],
      "text/plain": [
       "   id   age    income city\n",
       "0   1  0.50  0.333333   NY\n",
       "1   2  0.75  1.000000   LA\n",
       "3   4  0.00  0.000000   SF\n",
       "4   5  0.75  0.466667   NY\n",
       "5   6  1.00  0.400000   LA"
      ]
     },
     "metadata": {},
     "output_type": "display_data"
    }
   ],
   "source": [
    "import sys\n",
    "sys.path.append(\"..\")  \n",
    "\n",
    "from src.cleaning import fill_missing_median, drop_missing, normalize_data\n",
    "\n",
    "df_raw = pd.read_csv(os.path.join(data_raw, \"people.csv\"))\n",
    "print(\"Original Data:\")\n",
    "display(df_raw)\n",
    "\n",
    "df_filled = fill_missing_median(df_raw, columns=[\"age\", \"income\"])\n",
    "df_dropped = drop_missing(df_filled, threshold=0.7)\n",
    "df_cleaned = normalize_data(df_dropped, columns=[\"age\", \"income\"])\n",
    "\n",
    "print(\"Cleaned Data:\")\n",
    "display(df_cleaned)\n",
    "\n",
    "df_cleaned.to_csv(os.path.join(data_processed, \"people_cleaned.csv\"), index=False)"
   ]
  },
  {
   "cell_type": "markdown",
   "id": "72eb4cc0-2f61-4ddd-b21b-bc3f2242a525",
   "metadata": {},
   "source": [
    "### Comparing Shapes and datatypes"
   ]
  },
  {
   "cell_type": "code",
   "execution_count": 9,
   "id": "dd6c8f53-442b-4e44-8ad8-bde4b438ecc2",
   "metadata": {},
   "outputs": [
    {
     "name": "stdout",
     "output_type": "stream",
     "text": [
      "Original shape: (6, 4)\n",
      "Cleaned shape: (5, 4)\n",
      "Dtypes before:\n",
      " id          int64\n",
      "age       float64\n",
      "income    float64\n",
      "city       object\n",
      "dtype: object\n",
      "Dtypes after:\n",
      " id          int64\n",
      "age       float64\n",
      "income    float64\n",
      "city       object\n",
      "dtype: object\n"
     ]
    }
   ],
   "source": [
    "print(\"Original shape:\", df_raw.shape)\n",
    "print(\"Cleaned shape:\", df_cleaned.shape)\n",
    "print(\"Dtypes before:\\n\", df_raw.dtypes)\n",
    "print(\"Dtypes after:\\n\", df_cleaned.dtypes)\n"
   ]
  },
  {
   "cell_type": "code",
   "execution_count": null,
   "id": "9d58d459-285e-44cf-9880-71d74c853196",
   "metadata": {},
   "outputs": [],
   "source": []
  }
 ],
 "metadata": {
  "kernelspec": {
   "display_name": "Python 3 (ipykernel)",
   "language": "python",
   "name": "python3"
  },
  "language_info": {
   "codemirror_mode": {
    "name": "ipython",
    "version": 3
   },
   "file_extension": ".py",
   "mimetype": "text/x-python",
   "name": "python",
   "nbconvert_exporter": "python",
   "pygments_lexer": "ipython3",
   "version": "3.13.5"
  }
 },
 "nbformat": 4,
 "nbformat_minor": 5
}
