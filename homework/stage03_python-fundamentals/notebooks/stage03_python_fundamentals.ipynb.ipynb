{
 "cells": [
  {
   "cell_type": "code",
   "execution_count": 1,
   "id": "e621f329-06d4-42f6-955e-643a8010d71e",
   "metadata": {},
   "outputs": [],
   "source": [
    "import numpy as np\n",
    "import matplotlib.pyplot as plt\n",
    "import pandas as pd\n",
    "from datetime import datetime\n",
    "import os"
   ]
  },
  {
   "cell_type": "code",
   "execution_count": 2,
   "id": "9ed9e556-ce2e-496b-b860-93a8ea57159c",
   "metadata": {},
   "outputs": [
    {
     "name": "stdout",
     "output_type": "stream",
     "text": [
      "Sum of Arrays: [5 7 9]\n",
      "Difference of Arrays: [3 3 3]\n",
      "Dot Product (Element-wise multiplication) of Arrays: [ 4 10 18]\n"
     ]
    }
   ],
   "source": [
    "a = np.array([1,2,3])\n",
    "b = np.array([4,5,6])\n",
    "\n",
    "c = a + b \n",
    "print(f\"Sum of Arrays: {c}\")\n",
    "\n",
    "c = b - a \n",
    "print(f\"Difference of Arrays: {c}\")\n",
    "\n",
    "d = a * b\n",
    "print(f\"Dot Product (Element-wise multiplication) of Arrays: {d}\")"
   ]
  },
  {
   "cell_type": "markdown",
   "id": "4a6bd1d5-bfe8-4ae4-9e7b-b3ab86cfb8e2",
   "metadata": {},
   "source": [
    "### Numpy basic operations"
   ]
  },
  {
   "cell_type": "code",
   "execution_count": 3,
   "id": "b1f14cf3-3e2c-4a6d-acff-353a03261cd2",
   "metadata": {},
   "outputs": [
    {
     "name": "stdout",
     "output_type": "stream",
     "text": [
      "[5 7 9]\n",
      "[ 4 10 18]\n"
     ]
    }
   ],
   "source": [
    "a = np.array([1, 2, 3])\n",
    "b = np.array([4, 5, 6])\n",
    "\n",
    "print(a + b)\n",
    "print(a * b)"
   ]
  },
  {
   "cell_type": "markdown",
   "id": "59669423-30ce-4461-8d86-a7f29632b89d",
   "metadata": {},
   "source": [
    "### Vectorized vs. Loop Execution Speed"
   ]
  },
  {
   "cell_type": "code",
   "execution_count": 4,
   "id": "0c8aabfd-46ed-41db-a18c-eb1b73aa4298",
   "metadata": {},
   "outputs": [
    {
     "name": "stdout",
     "output_type": "stream",
     "text": [
      "656 μs ± 12.2 μs per loop (mean ± std. dev. of 7 runs, 1,000 loops each)\n",
      "106 ms ± 2.35 ms per loop (mean ± std. dev. of 7 runs, 10 loops each)\n"
     ]
    }
   ],
   "source": [
    "a = np.random.rand(1000000)\n",
    "b = np.random.rand(1000000)\n",
    "\n",
    "%timeit a + b\n",
    "\n",
    "def loop_add(x, y):\n",
    "    result = []\n",
    "    for i in range(len(x)):\n",
    "        result.append(x[i] + y[i])\n",
    "    return result\n",
    "\n",
    "%timeit loop_add(a, b)"
   ]
  },
  {
   "cell_type": "markdown",
   "id": "d3a5df63-ca7c-4f6e-8553-74896a04db3c",
   "metadata": {},
   "source": [
    "### Basic Pandas functions"
   ]
  },
  {
   "cell_type": "code",
   "execution_count": 9,
   "id": "9628fcf9-9452-409c-871d-aa8b53992531",
   "metadata": {},
   "outputs": [
    {
     "data": {
      "text/html": [
       "<div>\n",
       "<style scoped>\n",
       "    .dataframe tbody tr th:only-of-type {\n",
       "        vertical-align: middle;\n",
       "    }\n",
       "\n",
       "    .dataframe tbody tr th {\n",
       "        vertical-align: top;\n",
       "    }\n",
       "\n",
       "    .dataframe thead th {\n",
       "        text-align: right;\n",
       "    }\n",
       "</style>\n",
       "<table border=\"1\" class=\"dataframe\">\n",
       "  <thead>\n",
       "    <tr style=\"text-align: right;\">\n",
       "      <th></th>\n",
       "      <th>category</th>\n",
       "      <th>value</th>\n",
       "      <th>date</th>\n",
       "    </tr>\n",
       "  </thead>\n",
       "  <tbody>\n",
       "    <tr>\n",
       "      <th>0</th>\n",
       "      <td>A</td>\n",
       "      <td>10</td>\n",
       "      <td>2025-08-01</td>\n",
       "    </tr>\n",
       "    <tr>\n",
       "      <th>1</th>\n",
       "      <td>B</td>\n",
       "      <td>15</td>\n",
       "      <td>2025-08-02</td>\n",
       "    </tr>\n",
       "    <tr>\n",
       "      <th>2</th>\n",
       "      <td>A</td>\n",
       "      <td>12</td>\n",
       "      <td>2025-08-03</td>\n",
       "    </tr>\n",
       "    <tr>\n",
       "      <th>3</th>\n",
       "      <td>B</td>\n",
       "      <td>18</td>\n",
       "      <td>2025-08-04</td>\n",
       "    </tr>\n",
       "    <tr>\n",
       "      <th>4</th>\n",
       "      <td>C</td>\n",
       "      <td>25</td>\n",
       "      <td>2025-08-05</td>\n",
       "    </tr>\n",
       "    <tr>\n",
       "      <th>5</th>\n",
       "      <td>C</td>\n",
       "      <td>30</td>\n",
       "      <td>2025-08-06</td>\n",
       "    </tr>\n",
       "    <tr>\n",
       "      <th>6</th>\n",
       "      <td>A</td>\n",
       "      <td>11</td>\n",
       "      <td>2025-08-07</td>\n",
       "    </tr>\n",
       "    <tr>\n",
       "      <th>7</th>\n",
       "      <td>B</td>\n",
       "      <td>14</td>\n",
       "      <td>2025-08-08</td>\n",
       "    </tr>\n",
       "    <tr>\n",
       "      <th>8</th>\n",
       "      <td>C</td>\n",
       "      <td>28</td>\n",
       "      <td>2025-08-09</td>\n",
       "    </tr>\n",
       "    <tr>\n",
       "      <th>9</th>\n",
       "      <td>A</td>\n",
       "      <td>13</td>\n",
       "      <td>2025-08-10</td>\n",
       "    </tr>\n",
       "  </tbody>\n",
       "</table>\n",
       "</div>"
      ],
      "text/plain": [
       "  category  value        date\n",
       "0        A     10  2025-08-01\n",
       "1        B     15  2025-08-02\n",
       "2        A     12  2025-08-03\n",
       "3        B     18  2025-08-04\n",
       "4        C     25  2025-08-05\n",
       "5        C     30  2025-08-06\n",
       "6        A     11  2025-08-07\n",
       "7        B     14  2025-08-08\n",
       "8        C     28  2025-08-09\n",
       "9        A     13  2025-08-10"
      ]
     },
     "execution_count": 9,
     "metadata": {},
     "output_type": "execute_result"
    }
   ],
   "source": [
    "df = pd.read_csv(\"../data/raw/starter_data.csv\")\n",
    "df.head(10)"
   ]
  },
  {
   "cell_type": "code",
   "execution_count": 6,
   "id": "880c0859-72d6-4b6b-a690-887fd1c21284",
   "metadata": {},
   "outputs": [
    {
     "name": "stdout",
     "output_type": "stream",
     "text": [
      "<class 'pandas.core.frame.DataFrame'>\n",
      "RangeIndex: 10 entries, 0 to 9\n",
      "Data columns (total 3 columns):\n",
      " #   Column    Non-Null Count  Dtype \n",
      "---  ------    --------------  ----- \n",
      " 0   category  10 non-null     object\n",
      " 1   value     10 non-null     int64 \n",
      " 2   date      10 non-null     object\n",
      "dtypes: int64(1), object(2)\n",
      "memory usage: 372.0+ bytes\n"
     ]
    }
   ],
   "source": [
    "df.info()"
   ]
  },
  {
   "cell_type": "markdown",
   "id": "e59fce6c-f47a-4456-9962-cb47101d8a38",
   "metadata": {},
   "source": [
    "### Aggregation and Grouping"
   ]
  },
  {
   "cell_type": "code",
   "execution_count": 8,
   "id": "87802625-1a43-4611-8693-fc7c9f990752",
   "metadata": {},
   "outputs": [
    {
     "data": {
      "text/html": [
       "<div>\n",
       "<style scoped>\n",
       "    .dataframe tbody tr th:only-of-type {\n",
       "        vertical-align: middle;\n",
       "    }\n",
       "\n",
       "    .dataframe tbody tr th {\n",
       "        vertical-align: top;\n",
       "    }\n",
       "\n",
       "    .dataframe thead th {\n",
       "        text-align: right;\n",
       "    }\n",
       "</style>\n",
       "<table border=\"1\" class=\"dataframe\">\n",
       "  <thead>\n",
       "    <tr style=\"text-align: right;\">\n",
       "      <th></th>\n",
       "      <th>Category</th>\n",
       "      <th>Mean</th>\n",
       "      <th>Std</th>\n",
       "    </tr>\n",
       "  </thead>\n",
       "  <tbody>\n",
       "    <tr>\n",
       "      <th>0</th>\n",
       "      <td>A</td>\n",
       "      <td>11.500000</td>\n",
       "      <td>1.290994</td>\n",
       "    </tr>\n",
       "    <tr>\n",
       "      <th>1</th>\n",
       "      <td>B</td>\n",
       "      <td>15.666667</td>\n",
       "      <td>2.081666</td>\n",
       "    </tr>\n",
       "    <tr>\n",
       "      <th>2</th>\n",
       "      <td>C</td>\n",
       "      <td>27.666667</td>\n",
       "      <td>2.516611</td>\n",
       "    </tr>\n",
       "  </tbody>\n",
       "</table>\n",
       "</div>"
      ],
      "text/plain": [
       "  Category       Mean       Std\n",
       "0        A  11.500000  1.290994\n",
       "1        B  15.666667  2.081666\n",
       "2        C  27.666667  2.516611"
      ]
     },
     "execution_count": 8,
     "metadata": {},
     "output_type": "execute_result"
    }
   ],
   "source": [
    "summary = df.groupby('category')['value'].agg(['mean', 'std']).reset_index()\n",
    "summary.columns = ['Category', 'Mean', 'Std']\n",
    "summary.to_csv('../data/processed/summary.csv', index=False)\n",
    "summary"
   ]
  },
  {
   "cell_type": "markdown",
   "id": "3263d108-1223-40a6-a205-0d9865a49407",
   "metadata": {},
   "source": [
    "### Matplot Lib basic plot"
   ]
  },
  {
   "cell_type": "code",
   "execution_count": 10,
   "id": "860ad1de-a916-4a4a-a36d-14ff0df2f518",
   "metadata": {},
   "outputs": [
    {
     "data": {
      "image/png": "[encoded data removed]",
      "text/plain": [
       "<Figure size 600x400 with 1 Axes>"
      ]
     },
     "metadata": {},
     "output_type": "display_data"
    }
   ],
   "source": [
    "category_avg = df.groupby(\"category\")[\"value\"].mean()\n",
    "\n",
    "plt.figure(figsize=(6,4))\n",
    "category_avg.plot(kind=\"bar\")\n",
    "\n",
    "plt.xlabel(\"Category\")\n",
    "plt.ylabel(\"Average Value\")\n",
    "plt.title(\"Average Value by Category\")\n",
    "plt.show()"
   ]
  },
  {
   "cell_type": "code",
   "execution_count": null,
   "id": "0ab28b08-f018-47ea-8413-92094fee3a20",
   "metadata": {},
   "outputs": [],
   "source": []
  }
 ],
 "metadata": {
  "kernelspec": {
   "display_name": "Python 3 (ipykernel)",
   "language": "python",
   "name": "python3"
  },
  "language_info": {
   "codemirror_mode": {
    "name": "ipython",
    "version": 3
   },
   "file_extension": ".py",
   "mimetype": "text/x-python",
   "name": "python",
   "nbconvert_exporter": "python",
   "pygments_lexer": "ipython3",
   "version": "3.13.5"
  }
 },
 "nbformat": 4,
 "nbformat_minor": 5
}
