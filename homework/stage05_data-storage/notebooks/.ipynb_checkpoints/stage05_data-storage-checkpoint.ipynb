{
 "cells": [
  {
   "cell_type": "markdown",
   "id": "b8d194de-43fb-40ae-8aea-47f642db0b59",
   "metadata": {},
   "source": [
    "### Get data from folders using `.env`"
   ]
  },
  {
   "cell_type": "code",
   "execution_count": 1,
   "id": "1dca425c-e6a2-4310-8097-bbc1baa1bdd2",
   "metadata": {},
   "outputs": [],
   "source": [
    "import os\n",
    "import pandas as pd\n",
    "from dotenv import load_dotenv\n",
    "\n",
    "load_dotenv()\n",
    "\n",
    "DATA_DIR_RAW = os.getenv(\"DATA_DIR_RAW\")\n",
    "DATA_DIR_PROCESSED = os.getenv(\"DATA_DIR_PROCESSED\")\n",
    "\n",
    "os.makedirs(DATA_DIR_RAW, exist_ok=True)\n",
    "os.makedirs(DATA_DIR_PROCESSED, exist_ok=True)"
   ]
  },
  {
   "cell_type": "markdown",
   "id": "c4ea8a7a-2aa4-4be2-871e-646a4f948ec5",
   "metadata": {},
   "source": [
    "### Sample Data"
   ]
  },
  {
   "cell_type": "code",
   "execution_count": 6,
   "id": "664dda95-d144-45b8-a8f6-efe71dcaec6c",
   "metadata": {},
   "outputs": [],
   "source": [
    "df = pd.DataFrame({\n",
    "    \"id\": [1, 2, 3, 4, 5],\n",
    "    \"name\": [\"A\", \"B\", \"C\", \"D\", \"E\"],\n",
    "    \"value\": [10.5, 20.1, 30.2, 40.3, 50.4]\n",
    "})\n",
    "\n",
    "raw_path = os.path.join(DATA_DIR_RAW, \"sample.csv\")\n",
    "processed_path = os.path.join(DATA_DIR_PROCESSED, \"sample.parquet\")\n",
    "\n",
    "df.to_csv(raw_path, index=False)\n",
    "df.to_parquet(processed_path, index=False)\n",
    "\n",
    "df_csv = pd.read_csv(raw_path)\n",
    "df_parquet = pd.read_parquet(processed_path)"
   ]
  },
  {
   "cell_type": "markdown",
   "id": "2e6fa588-f8e9-45da-9cbf-047d6bbdd517",
   "metadata": {},
   "source": [
    "### Validation Function"
   ]
  },
  {
   "cell_type": "code",
   "execution_count": 7,
   "id": "be28e834-82f2-4373-b203-9716c1f7c7c4",
   "metadata": {},
   "outputs": [],
   "source": [
    "def validate(df1, df2):\n",
    "    return {\n",
    "        \"shape_match\": df1.shape == df2.shape,\n",
    "        \"columns_match\": list(df1.columns) == list(df2.columns),\n",
    "        \"dtypes_csv\": df1.dtypes.to_dict(),\n",
    "        \"dtypes_parquet\": df2.dtypes.to_dict()\n",
    "    }\n",
    "\n",
    "results = validate(df_csv, df_parquet)"
   ]
  },
  {
   "cell_type": "markdown",
   "id": "4977f941-3560-4308-92ef-7c7eac890e19",
   "metadata": {},
   "source": [
    "### Utility Functions"
   ]
  },
  {
   "cell_type": "code",
   "execution_count": 8,
   "id": "dd59b385-50a4-4f62-99e5-e1c83c98ed33",
   "metadata": {},
   "outputs": [],
   "source": [
    "def write_df(df, path):\n",
    "    os.makedirs(os.path.dirname(path), exist_ok=True)\n",
    "    suffix = os.path.splitext(path)[1].lower()\n",
    "    if suffix == \".csv\":\n",
    "        df.to_csv(path, index=False)\n",
    "    elif suffix == \".parquet\":\n",
    "        try:\n",
    "            df.to_parquet(path, index=False)\n",
    "        except ImportError:\n",
    "            raise RuntimeError(\"Parquet support requires pyarrow or fastparquet\")\n",
    "    else:\n",
    "        raise ValueError(f\"Unsupported file format: {suffix}\")\n",
    "\n",
    "def read_df(path):\n",
    "    suffix = os.path.splitext(path)[1].lower()\n",
    "    if suffix == \".csv\":\n",
    "        return pd.read_csv(path)\n",
    "    elif suffix == \".parquet\":\n",
    "        try:\n",
    "            return pd.read_parquet(path)\n",
    "        except ImportError:\n",
    "            raise RuntimeError(\"Parquet support requires pyarrow or fastparquet\")\n",
    "    else:\n",
    "        raise ValueError(f\"Unsupported file format: {suffix}\")\n"
   ]
  },
  {
   "cell_type": "code",
   "execution_count": 9,
   "id": "f788a1b5-1c96-4eb7-8951-4bffd5b09ddc",
   "metadata": {},
   "outputs": [
    {
     "data": {
      "text/html": [
       "<div>\n",
       "<style scoped>\n",
       "    .dataframe tbody tr th:only-of-type {\n",
       "        vertical-align: middle;\n",
       "    }\n",
       "\n",
       "    .dataframe tbody tr th {\n",
       "        vertical-align: top;\n",
       "    }\n",
       "\n",
       "    .dataframe thead th {\n",
       "        text-align: right;\n",
       "    }\n",
       "</style>\n",
       "<table border=\"1\" class=\"dataframe\">\n",
       "  <thead>\n",
       "    <tr style=\"text-align: right;\">\n",
       "      <th></th>\n",
       "      <th>id</th>\n",
       "      <th>name</th>\n",
       "      <th>value</th>\n",
       "    </tr>\n",
       "  </thead>\n",
       "  <tbody>\n",
       "    <tr>\n",
       "      <th>0</th>\n",
       "      <td>1</td>\n",
       "      <td>A</td>\n",
       "      <td>10.5</td>\n",
       "    </tr>\n",
       "    <tr>\n",
       "      <th>1</th>\n",
       "      <td>2</td>\n",
       "      <td>B</td>\n",
       "      <td>20.1</td>\n",
       "    </tr>\n",
       "    <tr>\n",
       "      <th>2</th>\n",
       "      <td>3</td>\n",
       "      <td>C</td>\n",
       "      <td>30.2</td>\n",
       "    </tr>\n",
       "    <tr>\n",
       "      <th>3</th>\n",
       "      <td>4</td>\n",
       "      <td>D</td>\n",
       "      <td>40.3</td>\n",
       "    </tr>\n",
       "    <tr>\n",
       "      <th>4</th>\n",
       "      <td>5</td>\n",
       "      <td>E</td>\n",
       "      <td>50.4</td>\n",
       "    </tr>\n",
       "  </tbody>\n",
       "</table>\n",
       "</div>"
      ],
      "text/plain": [
       "   id name  value\n",
       "0   1    A   10.5\n",
       "1   2    B   20.1\n",
       "2   3    C   30.2\n",
       "3   4    D   40.3\n",
       "4   5    E   50.4"
      ]
     },
     "execution_count": 9,
     "metadata": {},
     "output_type": "execute_result"
    }
   ],
   "source": [
    "df_csv = read_df(os.path.join(DATA_DIR_RAW, \"sample.csv\"))\n",
    "df_parquet = read_df(os.path.join(DATA_DIR_PROCESSED, \"sample.parquet\"))\n",
    "df_csv"
   ]
  },
  {
   "cell_type": "code",
   "execution_count": 10,
   "id": "aacbff14-f5bd-4055-9685-965ea41f9edb",
   "metadata": {},
   "outputs": [
    {
     "data": {
      "text/html": [
       "<div>\n",
       "<style scoped>\n",
       "    .dataframe tbody tr th:only-of-type {\n",
       "        vertical-align: middle;\n",
       "    }\n",
       "\n",
       "    .dataframe tbody tr th {\n",
       "        vertical-align: top;\n",
       "    }\n",
       "\n",
       "    .dataframe thead th {\n",
       "        text-align: right;\n",
       "    }\n",
       "</style>\n",
       "<table border=\"1\" class=\"dataframe\">\n",
       "  <thead>\n",
       "    <tr style=\"text-align: right;\">\n",
       "      <th></th>\n",
       "      <th>id</th>\n",
       "      <th>name</th>\n",
       "      <th>value</th>\n",
       "    </tr>\n",
       "  </thead>\n",
       "  <tbody>\n",
       "    <tr>\n",
       "      <th>0</th>\n",
       "      <td>1</td>\n",
       "      <td>A</td>\n",
       "      <td>10.5</td>\n",
       "    </tr>\n",
       "    <tr>\n",
       "      <th>1</th>\n",
       "      <td>2</td>\n",
       "      <td>B</td>\n",
       "      <td>20.1</td>\n",
       "    </tr>\n",
       "    <tr>\n",
       "      <th>2</th>\n",
       "      <td>3</td>\n",
       "      <td>C</td>\n",
       "      <td>30.2</td>\n",
       "    </tr>\n",
       "    <tr>\n",
       "      <th>3</th>\n",
       "      <td>4</td>\n",
       "      <td>D</td>\n",
       "      <td>40.3</td>\n",
       "    </tr>\n",
       "    <tr>\n",
       "      <th>4</th>\n",
       "      <td>5</td>\n",
       "      <td>E</td>\n",
       "      <td>50.4</td>\n",
       "    </tr>\n",
       "  </tbody>\n",
       "</table>\n",
       "</div>"
      ],
      "text/plain": [
       "   id name  value\n",
       "0   1    A   10.5\n",
       "1   2    B   20.1\n",
       "2   3    C   30.2\n",
       "3   4    D   40.3\n",
       "4   5    E   50.4"
      ]
     },
     "execution_count": 10,
     "metadata": {},
     "output_type": "execute_result"
    }
   ],
   "source": [
    "df_parquet"
   ]
  },
  {
   "cell_type": "code",
   "execution_count": null,
   "id": "523986d0-a28a-477f-824c-a1fa5829e983",
   "metadata": {},
   "outputs": [],
   "source": []
  }
 ],
 "metadata": {
  "kernelspec": {
   "display_name": "Python 3 (ipykernel)",
   "language": "python",
   "name": "python3"
  },
  "language_info": {
   "codemirror_mode": {
    "name": "ipython",
    "version": 3
   },
   "file_extension": ".py",
   "mimetype": "text/x-python",
   "name": "python",
   "nbconvert_exporter": "python",
   "pygments_lexer": "ipython3",
   "version": "3.13.5"
  }
 },
 "nbformat": 4,
 "nbformat_minor": 5
}
