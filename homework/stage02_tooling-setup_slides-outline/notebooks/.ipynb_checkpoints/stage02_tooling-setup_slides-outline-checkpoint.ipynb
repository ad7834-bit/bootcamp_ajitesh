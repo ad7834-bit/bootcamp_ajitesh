{
 "cells": [
  {
   "cell_type": "code",
   "execution_count": 3,
   "id": "9bac386a-7960-4cee-b17e-daa422836f43",
   "metadata": {},
   "outputs": [
    {
     "name": "stdout",
     "output_type": "stream",
     "text": [
      ".env loaded let's go!\n"
     ]
    }
   ],
   "source": [
    "import numpy as np\n",
    "from dotenv import load_dotenv\n",
    "\n",
    "from pathlib import Path\n",
    "load_dotenv()  \n",
    "print(\".env loaded let's go!\")\n"
   ]
  },
  {
   "cell_type": "markdown",
   "id": "efb82d9c-25f8-42e1-8877-7c946109b0b1",
   "metadata": {},
   "source": [
    "### Basic Numpy Operations"
   ]
  },
  {
   "cell_type": "code",
   "execution_count": 9,
   "id": "b17ce2ed-1411-4c44-ad5c-0059df48d800",
   "metadata": {},
   "outputs": [
    {
     "name": "stdout",
     "output_type": "stream",
     "text": [
      "Mean of array: 276.57142857142856\n",
      "Standard Deviation of array: 609.6595905310853\n",
      "2D Array of zeros: [[1. 1. 1.]\n",
      " [1. 1. 1.]\n",
      " [1. 1. 1.]]\n",
      "Sequence withtin given range: [ 0  4  8 12 16]\n"
     ]
    }
   ],
   "source": [
    "arr = np.array([1,68,33,44, 12, 9, 1769])\n",
    "print(\"Mean of array:\", arr.mean())\n",
    "print(f\"Standard Deviation of array: {arr.std()}\")\n",
    "\n",
    "zeros = np.ones((3,3)) \n",
    "print(f\"2D Array of zeros:\", zeros)\n",
    "\n",
    "arrange = np.arange(0,20,4)\n",
    "print(f\"Sequence withtin given range: {arrange}\")"
   ]
  },
  {
   "cell_type": "code",
   "execution_count": null,
   "id": "e7fabae9-3ffe-451d-af07-42e042a9655f",
   "metadata": {},
   "outputs": [],
   "source": []
  }
 ],
 "metadata": {
  "kernelspec": {
   "display_name": "Python 3 (ipykernel)",
   "language": "python",
   "name": "python3"
  },
  "language_info": {
   "codemirror_mode": {
    "name": "ipython",
    "version": 3
   },
   "file_extension": ".py",
   "mimetype": "text/x-python",
   "name": "python",
   "nbconvert_exporter": "python",
   "pygments_lexer": "ipython3",
   "version": "3.13.5"
  }
 },
 "nbformat": 4,
 "nbformat_minor": 5
}
